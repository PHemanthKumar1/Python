{
 "cells": [
  {
   "cell_type": "code",
   "execution_count": null,
   "id": "1f947fad",
   "metadata": {
    "scrolled": true
   },
   "outputs": [],
   "source": [
    "while True:\n",
    "    inp0=input(\"Do you want to start?:(yes/No): \")\n",
    "    if inp0 !=\"yes\":\n",
    "        break\n",
    "    inp1 = float(input(\"Enter first number: \"))\n",
    "    op = input(\"Enter operator (+,-,*,/): \")\n",
    "    inp2 = float(input(\"Enter second number: \"))\n",
    "    if op == '+':\n",
    "        print(inp1 + inp2)\n",
    "    elif op == '-':\n",
    "        print(inp1 - inp2)\n",
    "    elif op == '*':\n",
    "        print(inp1 * inp2)\n",
    "    elif op == '/':\n",
    "        print(inp1 / inp2)\n",
    "    else:\n",
    "        print(\"error\")\n",
    "    option=input(\"Do you want to continue?:(Yes/No): \")\n",
    "    if option !=\"yes\":\n",
    "        break\n"
   ]
  },
  {
   "cell_type": "code",
   "execution_count": null,
   "id": "6e7f26a8",
   "metadata": {},
   "outputs": [],
   "source": []
  },
  {
   "cell_type": "code",
   "execution_count": null,
   "id": "b1cc70c8",
   "metadata": {},
   "outputs": [],
   "source": []
  }
 ],
 "metadata": {
  "kernelspec": {
   "display_name": "Python 3 (ipykernel)",
   "language": "python",
   "name": "python3"
  },
  "language_info": {
   "codemirror_mode": {
    "name": "ipython",
    "version": 3
   },
   "file_extension": ".py",
   "mimetype": "text/x-python",
   "name": "python",
   "nbconvert_exporter": "python",
   "pygments_lexer": "ipython3",
   "version": "3.9.12"
  }
 },
 "nbformat": 4,
 "nbformat_minor": 5
}
